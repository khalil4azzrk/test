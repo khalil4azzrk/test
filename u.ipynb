{
 "cells": [
  {
   "cell_type": "markdown",
   "id": "170f81cc",
   "metadata": {},
   "source": [
    "# khaled"
   ]
  },
  {
   "cell_type": "code",
   "execution_count": 1,
   "id": "034b8112",
   "metadata": {},
   "outputs": [
    {
     "name": "stdout",
     "output_type": "stream",
     "text": [
      "khalil\n"
     ]
    }
   ],
   "source": [
    "print('khaled')"
   ]
  },
  {
   "cell_type": "code",
   "execution_count": null,
   "id": "ded878cb",
   "metadata": {},
   "outputs": [],
   "source": []
  },
  {
   "cell_type": "markdown",
   "id": "c76499a4",
   "metadata": {},
   "source": [
    "# marina"
   ]
  },
  {
   "cell_type": "code",
   "execution_count": 2,
   "id": "f95d704e",
   "metadata": {},
   "outputs": [
    {
     "name": "stdout",
     "output_type": "stream",
     "text": [
      "marina\n"
     ]
    }
   ],
   "source": [
    "print('marina')"
   ]
  },
  {
   "cell_type": "code",
   "execution_count": null,
   "id": "f93dfd80",
   "metadata": {},
   "outputs": [],
   "source": []
  },
  {
   "cell_type": "code",
   "execution_count": null,
   "id": "de1ccec2",
   "metadata": {},
   "outputs": [],
   "source": []
  },
  {
   "cell_type": "code",
   "execution_count": null,
   "id": "8ca1bdb3",
   "metadata": {},
   "outputs": [],
   "source": []
  }
 ],
 "metadata": {
  "kernelspec": {
   "display_name": "base",
   "language": "python",
   "name": "python3"
  },
  "language_info": {
   "codemirror_mode": {
    "name": "ipython",
    "version": 3
   },
   "file_extension": ".py",
   "mimetype": "text/x-python",
   "name": "python",
   "nbconvert_exporter": "python",
   "pygments_lexer": "ipython3",
   "version": "3.12.7"
  }
 },
 "nbformat": 4,
 "nbformat_minor": 5
}
