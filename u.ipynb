{
 "cells": [
  {
   "cell_type": "markdown",
   "id": "170f81cc",
   "metadata": {},
   "source": [
    "# khaled"
   ]
  },
  {
   "cell_type": "code",
   "execution_count": null,
   "id": "034b8112",
   "metadata": {
    "vscode": {
     "languageId": "plaintext"
    }
   },
   "outputs": [],
   "source": []
  },
  {
   "cell_type": "code",
   "execution_count": null,
   "id": "ded878cb",
   "metadata": {
    "vscode": {
     "languageId": "plaintext"
    }
   },
   "outputs": [],
   "source": []
  },
  {
   "cell_type": "markdown",
   "id": "c76499a4",
   "metadata": {},
   "source": [
    "# marina"
   ]
  },
  {
   "cell_type": "code",
   "execution_count": 2,
   "id": "f95d704e",
   "metadata": {},
   "outputs": [
    {
     "name": "stdout",
     "output_type": "stream",
     "text": [
      "marina\n"
     ]
    }
   ],
   "source": [
    "print('marina')"
   ]
  },
  {
   "cell_type": "code",
   "execution_count": null,
   "id": "f93dfd80",
   "metadata": {
    "vscode": {
     "languageId": "plaintext"
    }
   },
   "outputs": [],
   "source": []
  },
  {
   "cell_type": "code",
   "execution_count": null,
   "id": "de1ccec2",
   "metadata": {
    "vscode": {
     "languageId": "plaintext"
    }
   },
   "outputs": [],
   "source": []
  },
  {
   "cell_type": "code",
   "execution_count": null,
   "id": "8ca1bdb3",
   "metadata": {
    "vscode": {
     "languageId": "plaintext"
    }
   },
   "outputs": [],
   "source": []
  }
 ],
 "metadata": {
  "language_info": {
   "name": "python"
  }
 },
 "nbformat": 4,
 "nbformat_minor": 5
}
